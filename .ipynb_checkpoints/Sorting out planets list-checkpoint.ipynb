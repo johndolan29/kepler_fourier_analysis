{
 "cells": [
  {
   "cell_type": "code",
   "execution_count": null,
   "id": "1696af47",
   "metadata": {},
   "outputs": [],
   "source": [
    "import pandas as pd\n",
    "#before this point I changed the headings on some of the columns like system_no_of_planets, period and filtered out non kepler, K2, Tess planets\n",
    "df_planets = pd.read_csv('planets.csv')"
   ]
  },
  {
   "cell_type": "code",
   "execution_count": null,
   "id": "36f11f0c",
   "metadata": {},
   "outputs": [],
   "source": [
    "df_planets.drop_duplicates(subset = 'pl_name', keep = 'first').to_csv('planets_duplicates_dropped.csv')"
   ]
  },
  {
   "cell_type": "code",
   "execution_count": null,
   "id": "1e82a545",
   "metadata": {},
   "outputs": [],
   "source": [
    "df_planets = pd.read_csv('planets_duplicates_dropped.csv')"
   ]
  },
  {
   "cell_type": "code",
   "execution_count": null,
   "id": "b0209e45",
   "metadata": {},
   "outputs": [],
   "source": [
    "for p in df_planets['pl_name']:\n",
    "    print(p.replace(' ', '%20'))\n",
    "    url = f\"https://exo.mast.stsci.edu/api/v0.1/exoplanets/{p.replace(' ', '%20')}/properties\"\n",
    "    r = requests.get(url)\n",
    "    if len(r.json()) ==0:\n",
    "        print(\"No info\")\n",
    "    else:\n",
    "        T0 = r.json()[0]['transit_time']\n",
    "        T0_unit = r.json()[0]['transit_time_unit']\n",
    "    \n",
    "    df_planets.loc[df_planets['pl_name']==p,'T0'] = T0\n",
    "    df_planets.loc[df_planets['pl_name']==p,'T0_unit'] = T0_unit\n"
   ]
  },
  {
   "cell_type": "code",
   "execution_count": null,
   "id": "fd346779",
   "metadata": {},
   "outputs": [],
   "source": [
    "df_planets[['rowid', 'pl_name', 'hostname', 'period', 'system_no_of_planets', 'T0','T0_unit']].to_csv('planets_filtered_with_T0.csv')#df_planets_filtered = "
   ]
  }
 ],
 "metadata": {
  "kernelspec": {
   "display_name": "Python 3 (ipykernel)",
   "language": "python",
   "name": "python3"
  },
  "language_info": {
   "codemirror_mode": {
    "name": "ipython",
    "version": 3
   },
   "file_extension": ".py",
   "mimetype": "text/x-python",
   "name": "python",
   "nbconvert_exporter": "python",
   "pygments_lexer": "ipython3",
   "version": "3.8.10"
  }
 },
 "nbformat": 4,
 "nbformat_minor": 5
}
