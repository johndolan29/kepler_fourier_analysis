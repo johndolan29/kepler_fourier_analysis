{
 "cells": [
  {
   "cell_type": "code",
   "execution_count": 1,
   "id": "0dd198ac",
   "metadata": {},
   "outputs": [],
   "source": [
    "import pandas as pd\n",
    "import numpy as np\n",
    "import matplotlib.pyplot as plt\n",
    "import kplr\n",
    "%matplotlib qt\n",
    "import lightkurve as lk\n",
    "import requests"
   ]
  },
  {
   "cell_type": "code",
   "execution_count": 2,
   "id": "f76d9563",
   "metadata": {},
   "outputs": [],
   "source": [
    "def cut_time_series(time_series: pd.DataFrame, starting_transit:int, number_of_transits:int, T0: float, period: float) -> pd.DataFrame:\n",
    "    number_of_transits = number_of_transits-starting_transit\n",
    "\n",
    "    transit_start=(T0+(period*starting_transit))\n",
    "    transit_end=(T0+(period*number_of_transits))\n",
    "    \n",
    "    df_cut = time_series.query(f'Time>={transit_start} & Time<={transit_end}')\n",
    "\n",
    "    df_cut = df_cut.fillna(df_cut.mean())\n",
    "    df_cut['Flux'] -= np.mean(df_cut['Flux'])\n",
    "    return df_cut"
   ]
  },
  {
   "cell_type": "code",
   "execution_count": 3,
   "id": "b96ee2e2",
   "metadata": {},
   "outputs": [],
   "source": [
    "def phase_fold(cut_time_series:pd.DataFrame, period:float ) -> pd.DataFrame:\n",
    "    timestep = cut_time_series.index[2] - cut_time_series.index[1]\n",
    "    ts_length = len(cut_time_series)\n",
    "    ts=cut_time_series.index\n",
    "    phase=np.mod((ts-ts.min())+period/2, period)/period\n",
    "    phis = 2.*np.pi*np.mod((ts-ts.min())/(period),1) \n",
    "    cut_time_series['phis'] = phis\n",
    "    cut_time_series['phase'] = phase\n",
    "    return cut_time_series"
   ]
  },
  {
   "cell_type": "code",
   "execution_count": 57,
   "id": "523b9c98",
   "metadata": {},
   "outputs": [],
   "source": [
    "def harmonics(cut_time_series:pd.DataFrame, period:float, number_of_transits):\n",
    "    ts_length = len(cut_time_series)\n",
    "    \n",
    "    nharms = np.linspace(1,ts_length/number_of_transits,ts_length//number_of_transits)\n",
    "    \n",
    "    phis = cut_time_series['phis'].values\n",
    "    pmat = nharms*phis.reshape(ts_length,1)\n",
    "    \n",
    "    C = np.cos(pmat)\n",
    "    S = np.sin(pmat)\n",
    "\n",
    "    Tmat = np.matrix(np.hstack((C,S)))\n",
    "    \n",
    "    I = cut_time_series['Flux'].values\n",
    "    I_mat = np.matrix(I.reshape(ts_length,1))\n",
    "    \n",
    "    R = (Tmat.T*Tmat).I * (Tmat.T*I_mat)\n",
    "\n",
    "    fit = np.array(Tmat*R).reshape(ts_length)\n",
    "    dat = I.reshape(ts_length)\n",
    "\n",
    "    # Now plot phase-folded\n",
    "    phase = cut_time_series['phase'].values\n",
    "    isort = np.argsort(phase)\n",
    "    phase = phase[isort]\n",
    "    fit = fit[isort]\n",
    "    dat = dat[isort]\n",
    "    return fit, dat, phase, R,nharms, Tmat"
   ]
  },
  {
   "cell_type": "code",
   "execution_count": 58,
   "id": "5a123880",
   "metadata": {},
   "outputs": [],
   "source": [
    "#harmonics(df_cut, period, number_of_transits)"
   ]
  },
  {
   "cell_type": "code",
   "execution_count": 59,
   "id": "8233157a",
   "metadata": {},
   "outputs": [],
   "source": [
    "kepler_list = pd.read_csv('kep_conf_names_2023_02_18_15_00_44.csv', delimiter=',')"
   ]
  },
  {
   "cell_type": "code",
   "execution_count": 60,
   "id": "14437b4b",
   "metadata": {},
   "outputs": [],
   "source": [
    "\n",
    "def download_kepler(kepler_name):\n",
    "    search_results = lk.search_lightcurve(kepler_name, author='Kepler', cadence=\"long\")\n",
    "    \n",
    "    dfs_list = []\n",
    "    for lc in search_results:\n",
    "        light_curve = lc.download()\n",
    "        normalised_flux = light_curve.flux.value / np.mean(light_curve.flux.value)\n",
    "        df_temp = pd.DataFrame([light_curve.time.mjd,normalised_flux]).astype(float)\n",
    "        dfs_list.append(df_temp)\n",
    "    \n",
    "    if len(dfs_list) == 0:\n",
    "        print(f'No Data for {kepler_name}')\n",
    "        return dfs_list\n",
    "\n",
    "    \n",
    "    df_temp2 = pd.concat(dfs_list, axis=1)\n",
    "    \n",
    "\n",
    "    return df_temp2"
   ]
  },
  {
   "cell_type": "code",
   "execution_count": 61,
   "id": "4c80c1c9",
   "metadata": {},
   "outputs": [
    {
     "name": "stdout",
     "output_type": "stream",
     "text": [
      "##################\n",
      "Kepler-1055 b\n",
      "2.295\n",
      "30622 30622 204 102\n"
     ]
    },
    {
     "ename": "NameError",
     "evalue": "name 'ddd' is not defined",
     "output_type": "error",
     "traceback": [
      "\u001b[1;31m---------------------------------------------------------------------------\u001b[0m",
      "\u001b[1;31mNameError\u001b[0m                                 Traceback (most recent call last)",
      "Input \u001b[1;32mIn [61]\u001b[0m, in \u001b[0;36m<cell line: 62>\u001b[1;34m()\u001b[0m\n\u001b[0;32m     70\u001b[0m     plt\u001b[38;5;241m.\u001b[39maxvline(outer_l5)\n\u001b[0;32m     71\u001b[0m     plt\u001b[38;5;241m.\u001b[39mplot(phase,dat,\u001b[38;5;124m'\u001b[39m\u001b[38;5;124m,b\u001b[39m\u001b[38;5;124m'\u001b[39m)\n\u001b[1;32m---> 72\u001b[0m     \u001b[43mddd\u001b[49m\n\u001b[0;32m     73\u001b[0m \u001b[38;5;28;01melse\u001b[39;00m:\n\u001b[0;32m     74\u001b[0m     \u001b[38;5;28mprint\u001b[39m(\u001b[38;5;124m'\u001b[39m\u001b[38;5;124mNothing detected\u001b[39m\u001b[38;5;124m'\u001b[39m)\n",
      "\u001b[1;31mNameError\u001b[0m: name 'ddd' is not defined"
     ]
    }
   ],
   "source": [
    "#for kepler_name in kepler_list['kepler_name']:\n",
    "print('##################')\n",
    "kepler_name = 'Kepler-1055 b'#'Kepler-14 b'\n",
    "try:\n",
    "    del period, T0, df\n",
    "except:\n",
    "    pass\n",
    "print(kepler_name)\n",
    "url = f\"https://archive.stsci.edu/kepler/confirmed_planets/search.php?kepler_name={kepler_name.replace(' ','+')}&max_records=1&action=Search&outputformat=JSON&coordformat=dec&verb=3\"\n",
    "r = requests.get(url).json()[0]\n",
    "period = float(r['Period'])\n",
    "print(period)\n",
    "T0 = 54965.19299999997#float(r['Time of transit'])\n",
    "\n",
    "df = download_kepler(kepler_name)\n",
    "if len(df)==0:\n",
    "    print(\"No Lightcurve\")\n",
    "    #continue\n",
    "df = df.T\n",
    "df.columns = ['Time', 'Flux']\n",
    "df = df.set_index('Time')\n",
    "\n",
    "std_devs = 0\n",
    "starting_transit = 0\n",
    "\n",
    "#period = 6.79012361 # Kepler 14 b\n",
    "#T0 = 138.088 # Kepler 14 b\n",
    "number_of_transits = int((df.index[-1] - df.index[0])/period)-1\n",
    "number_of_transits = 300 if number_of_transits>300 else number_of_transits\n",
    "\n",
    "df_cut = cut_time_series(df, starting_transit, number_of_transits, T0, period)\n",
    "#df_cut.plot( y='Flux')\n",
    "df_cut = phase_fold(df_cut, period )\n",
    "#df_cut.plot(x= 'phase', y='Flux')\n",
    "\n",
    "ts_length = len(df_cut)\n",
    "\n",
    "fit, dat, phase, R, nharms, Tmat = harmonics(df_cut, period, number_of_transits)\n",
    "\n",
    "\n",
    "print(len(fit), len(dat), len(R), len(nharms))\n",
    "\n",
    "# Inew=np.array(Tmat*R)\n",
    "# print(len(Inew))\n",
    "# plt.figure(4)\n",
    "# plt.plot(phase,Inew,'.b', markersize = 2)\n",
    "# plt.show()\n",
    "\n",
    "\n",
    "outer_l4,inner_l4, inner_l5, outer_l5 = 0.24, 0.42, 0.57, 0.75\n",
    "in_trojon_region_l4 = (phase>outer_l4) & (phase<inner_l4)\n",
    "in_trojon_region_l5 = (phase>inner_l5) & (phase<outer_l5)\n",
    "\n",
    "outside_trojan_and_planet = (phase<outer_l4) | (phase>outer_l5)\n",
    "\n",
    "in_trojon_region = in_trojon_region_l4 | in_trojon_region_l5\n",
    "\n",
    "mean_outside_trojan_region = np.mean(fit[outside_trojan_and_planet])\n",
    "std_outside_trojan_region = np.std(fit[outside_trojan_and_planet])\n",
    "\n",
    "\n",
    "if np.sum(fit[in_trojon_region]<mean_outside_trojan_region-std_outside_trojan_region*std_devs)>0:\n",
    "    plt.figure(2)\n",
    "    plt.plot(phase,fit,'r')\n",
    "    plt.axhline(mean_outside_trojan_region)\n",
    "    plt.axhline(mean_outside_trojan_region-std_outside_trojan_region*std_devs)\n",
    "    plt.axvline(outer_l4)\n",
    "    plt.axvline(inner_l4)\n",
    "    plt.axvline(inner_l5)\n",
    "    plt.axvline(outer_l5)\n",
    "    plt.plot(phase,dat,',b')\n",
    "    ddd\n",
    "else:\n",
    "    print('Nothing detected')"
   ]
  },
  {
   "cell_type": "code",
   "execution_count": 18,
   "id": "728da770",
   "metadata": {},
   "outputs": [
    {
     "data": {
      "text/plain": [
       "<AxesSubplot:xlabel='Time'>"
      ]
     },
     "execution_count": 18,
     "metadata": {},
     "output_type": "execute_result"
    }
   ],
   "source": [
    "df_cut.plot(y='Flux')"
   ]
  },
  {
   "cell_type": "code",
   "execution_count": 9,
   "id": "7e54ce07",
   "metadata": {},
   "outputs": [],
   "source": [
    "df_test = df_cut.loc[df_cut.index[:100]]"
   ]
  },
  {
   "cell_type": "code",
   "execution_count": 33,
   "id": "95c80e6e",
   "metadata": {},
   "outputs": [
    {
     "name": "stdout",
     "output_type": "stream",
     "text": [
      "100\n",
      "1\n",
      "1\n",
      "1\n"
     ]
    }
   ],
   "source": [
    "ts_length = len(df_test)\n",
    "print(ts_length)\n",
    "    \n",
    "nharms = np.linspace(int(1),int(ts_length/number_of_transits),int(ts_length//number_of_transits)).astype('float32')\n",
    "\n",
    "print(1)\n",
    "\n",
    "phis_reshaped = df_test['phis'].values.reshape(ts_length, 1)\n",
    "\n",
    "pmat = nharms*phis_reshaped\n",
    "print(1)\n",
    "C = np.cos(pmat)\n",
    "S = np.sin(pmat)\n",
    "Tmat = np.matrix(np.hstack((C,S)))\n",
    "print(1)"
   ]
  },
  {
   "cell_type": "code",
   "execution_count": 41,
   "id": "f1d01f7f",
   "metadata": {},
   "outputs": [
    {
     "data": {
      "text/plain": [
       "(100, 32)"
      ]
     },
     "execution_count": 41,
     "metadata": {},
     "output_type": "execute_result"
    }
   ],
   "source": [
    "np.shape(Tmat)"
   ]
  },
  {
   "cell_type": "code",
   "execution_count": 61,
   "id": "a309a9c9",
   "metadata": {},
   "outputs": [
    {
     "name": "stdout",
     "output_type": "stream",
     "text": [
      "1\n",
      "1\n"
     ]
    }
   ],
   "source": [
    "print(1)\n",
    "I = df_test['Flux'].values\n",
    "I_mat = df_test['Flux'].values.reshape(ts_length,1)\n",
    "print(1)\n",
    "R = (Tmat.T*Tmat).I * (Tmat.T*I_mat)"
   ]
  },
  {
   "cell_type": "code",
   "execution_count": 62,
   "id": "6e8e8173",
   "metadata": {},
   "outputs": [
    {
     "data": {
      "text/plain": [
       "(32, 1)"
      ]
     },
     "execution_count": 62,
     "metadata": {},
     "output_type": "execute_result"
    }
   ],
   "source": [
    "np.shape(R)"
   ]
  },
  {
   "cell_type": "code",
   "execution_count": null,
   "id": "93e7b482",
   "metadata": {},
   "outputs": [],
   "source": []
  },
  {
   "cell_type": "code",
   "execution_count": null,
   "id": "36f928e3",
   "metadata": {},
   "outputs": [],
   "source": []
  },
  {
   "cell_type": "code",
   "execution_count": 188,
   "id": "2a52a056",
   "metadata": {},
   "outputs": [
    {
     "data": {
      "text/plain": [
       "<AxesSubplot:xlabel='Time'>"
      ]
     },
     "execution_count": 188,
     "metadata": {},
     "output_type": "execute_result"
    }
   ],
   "source": [
    "\n",
    "df.plot()"
   ]
  },
  {
   "cell_type": "code",
   "execution_count": 189,
   "id": "3e0156f5",
   "metadata": {},
   "outputs": [
    {
     "name": "stdout",
     "output_type": "stream",
     "text": [
      "51402 51402 474 237\n",
      "Nothing detected\n"
     ]
    }
   ],
   "source": [
    "\n"
   ]
  },
  {
   "cell_type": "code",
   "execution_count": 90,
   "id": "58ab8fdc",
   "metadata": {},
   "outputs": [
    {
     "data": {
      "text/plain": [
       "<matplotlib.legend.Legend at 0x233561b9430>"
      ]
     },
     "execution_count": 90,
     "metadata": {},
     "output_type": "execute_result"
    }
   ],
   "source": [
    "\n",
    "\n",
    "#plt.show()\n",
    "\n",
    "#print(np.shape(R))\n",
    "#R = np.array(R).reshape(NCPT,1)\n",
    "\n",
    "plt.figure(2)\n",
    "plt.step(nharms/number_of_transits,R[:int(ts_length/number_of_transits)],'.b',where='mid',label=\"Cosine\")\n",
    "plt.step(nharms/number_of_transits,R[int(ts_length/number_of_transits):],'.r',where='mid',label=\"Sine\")\n",
    "\n",
    "# plt.figure(3)\n",
    "# plt.step(nharms,R[:int(ts_length/number_of_transits)],label=\"Cosine\")\n",
    "# plt.step(nharms,R[int(ts_length/number_of_transits):],'.r',label=\"Sine\")\n",
    "plt.legend()\n",
    "#plt.xlim(0,30)\n",
    "#plt.ylim(-1.5e-4,0.5e-4)\n",
    "#plt.step(nharms,R[:NCPT],'.b',where='mid')\n",
    "#plt.step(nharms,R[NCPT:],'.r',where='mid')\n",
    "\n"
   ]
  },
  {
   "cell_type": "code",
   "execution_count": 432,
   "id": "293e8fd7",
   "metadata": {},
   "outputs": [
    {
     "name": "stdout",
     "output_type": "stream",
     "text": [
      "1306\n"
     ]
    }
   ],
   "source": []
  },
  {
   "cell_type": "code",
   "execution_count": null,
   "id": "142850b6",
   "metadata": {},
   "outputs": [],
   "source": []
  }
 ],
 "metadata": {
  "kernelspec": {
   "display_name": "Python 3 (ipykernel)",
   "language": "python",
   "name": "python3"
  },
  "language_info": {
   "codemirror_mode": {
    "name": "ipython",
    "version": 3
   },
   "file_extension": ".py",
   "mimetype": "text/x-python",
   "name": "python",
   "nbconvert_exporter": "python",
   "pygments_lexer": "ipython3",
   "version": "3.8.10"
  }
 },
 "nbformat": 4,
 "nbformat_minor": 5
}
