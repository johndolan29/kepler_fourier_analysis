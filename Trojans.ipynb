{
 "cells": [
  {
   "cell_type": "code",
   "execution_count": null,
   "metadata": {
    "colab": {
     "base_uri": "https://localhost:8080/"
    },
    "id": "nS1HwdRr0ctW",
    "outputId": "6f1a08d2-80b1-4215-d231-cd9565a5e294"
   },
   "outputs": [],
   "source": [
    "#%pip install lightkurve"
   ]
  },
  {
   "cell_type": "code",
   "execution_count": 323,
   "metadata": {
    "colab": {
     "base_uri": "https://localhost:8080/",
     "height": 110
    },
    "id": "7YOruR3ozwNL",
    "outputId": "e1c94f99-8f18-4729-a082-b55ab2d56812"
   },
   "outputs": [],
   "source": [
    "import numpy as np\n",
    "import matplotlib.pyplot as plt\n",
    "import lightkurve as lk\n",
    "import requests\n",
    "%matplotlib qt\n"
   ]
  },
  {
   "cell_type": "code",
   "execution_count": 324,
   "metadata": {
    "id": "dKrPI3x2z4dA"
   },
   "outputs": [],
   "source": [
    "def cut_time_series(lc_time: np.array, lc_flux: np.array, starting_transit:int, number_of_transits:int, T0: float, period: float):\n",
    "    number_of_transits = number_of_transits-starting_transit\n",
    "\n",
    "    transit_start=(T0+(period*starting_transit))\n",
    "    transit_end=(T0+(period*int(number_of_transits)))\n",
    "    \n",
    "    time_cut_mask = (lc_time>=transit_start) & (lc_time<=transit_end)\n",
    "    lc_time_cut = lc_time[time_cut_mask]\n",
    "    lc_flux_cut = lc_flux[time_cut_mask]\n",
    "    return lc_time_cut, lc_flux_cut"
   ]
  },
  {
   "cell_type": "code",
   "execution_count": 325,
   "metadata": {
    "id": "NEDXNKBmz6bM"
   },
   "outputs": [],
   "source": [
    "def phase_fold(lc_time: np.array, period:float ):\n",
    "    timestep = lc_time[2] - lc_time[1] # just in case the first value is NaN\n",
    "    ts_length = len(lc_time)\n",
    "    \n",
    "    phase=np.mod((lc_time-lc_time.min())+period/2, period)/period\n",
    "    phis = 2.*np.pi*np.mod((lc_time-lc_time.min())/(period),1) \n",
    "    return phis,phase"
   ]
  },
  {
   "cell_type": "code",
   "execution_count": 337,
   "metadata": {
    "id": "uz5zP-7dz_Ik"
   },
   "outputs": [],
   "source": [
    "import pandas as pd\n",
    "kepler_list = pd.read_csv('kep_conf_names_2023_02_18_15_00_44.csv', delimiter=',', usecols = ['pl_name'])\n",
    "K2_list = pd.read_csv('K2_2023.csv', delimiter=',', usecols = ['pl_name','hostname'])\n",
    "Tess_list = pd.read_csv('TESS_2023.csv', delimiter=',', usecols = ['pl_name','hostname'])\n",
    "\n",
    "planet_list = pd.concat([kepler_list,Tess_list,K2_list], axis=0)"
   ]
  },
  {
   "cell_type": "code",
   "execution_count": 327,
   "metadata": {
    "id": "uHhHST6-0BIk"
   },
   "outputs": [],
   "source": [
    "def download_lightcurves(planet_name):\n",
    "    search_results = lk.search_lightcurve(planet_name.split(' ')[0], cadence=\"long\")\n",
    "    \n",
    "    if len(search_results)==0:\n",
    "        print(f'No Data for {planet_name}')\n",
    "        return [], []\n",
    "    lc_time_list = []\n",
    "    lc_flux_list = []\n",
    "    for lc in search_results:\n",
    "        light_curve = lc.download()\n",
    "        \n",
    "        lc_mean = np.mean(light_curve.flux.value)\n",
    "        quarter_normalised_flux = light_curve.flux.value.astype(np.ndarray) / np.mean(light_curve.flux.value)\n",
    "        quarter_lc_time = light_curve.time.value\n",
    "        lc_time_list.append(quarter_lc_time.astype(float))\n",
    "        lc_flux_list.append(quarter_normalised_flux.astype(float))\n",
    "    lc_time = np.concatenate(lc_time_list).astype(float)\n",
    "    lc_flux = np.concatenate(lc_flux_list).astype(float)\n",
    "    \n",
    "    lc_flux[np.isnan(lc_flux)]=1\n",
    "    \n",
    "    lc_flux -= np.mean(lc_flux)\n",
    "    \n",
    "    return lc_time,lc_flux\n"
   ]
  },
  {
   "cell_type": "code",
   "execution_count": 328,
   "metadata": {},
   "outputs": [
    {
     "name": "stdout",
     "output_type": "stream",
     "text": [
      "HD 108236 b\n",
      "No Data for HD 108236 b\n"
     ]
    },
    {
     "data": {
      "text/plain": [
       "([], [])"
      ]
     },
     "execution_count": 328,
     "metadata": {},
     "output_type": "execute_result"
    }
   ],
   "source": [
    "n = 10\n",
    "print(Tess_list.iloc[n]['pl_name'])\n",
    "download_lightcurves(Tess_list.iloc[n]['pl_name'])\n"
   ]
  },
  {
   "cell_type": "code",
   "execution_count": 329,
   "metadata": {
    "id": "_aVSB-ey5hHE"
   },
   "outputs": [],
   "source": [
    "def plot_fitted_data(phase,fit,old_data,mean_outside_trojan_region,std_outside_trojan_region,std_devs,outer_l4,inner_l4,inner_l5,outer_l5):\n",
    "    plt.figure(1)\n",
    "    plt.plot(phase,fit,'r')\n",
    "    plt.axhline(mean_outside_trojan_region)\n",
    "    plt.axhline(mean_outside_trojan_region-std_outside_trojan_region*std_devs)\n",
    "    plt.axvline(outer_l4)\n",
    "    plt.axvline(inner_l4)\n",
    "    plt.axvline(inner_l5)\n",
    "    plt.axvline(outer_l5)\n",
    "    plt.plot(phase,old_data,',b')\n",
    "    #plt.ylim(min_outside_trojan_region,max_outside_trojan_region)\n",
    "    return\n",
    "\n",
    "def get_trojan_regions(phase,outer_l4,inner_l4, inner_l5, outer_l5):\n",
    "    in_trojon_region_l5 = (phase>inner_l5) & (phase<outer_l5)\n",
    "    in_trojon_region_l4 = (phase>outer_l4) & (phase<inner_l4)\n",
    "\n",
    "    outside_trojan_and_planet = (phase<outer_l4) | (phase>outer_l5)\n",
    "\n",
    "    in_trojon_region = in_trojon_region_l4 | in_trojon_region_l5\n",
    "\n",
    "    mean_outside_trojan_region = np.mean(fit[outside_trojan_and_planet])\n",
    "    max_outside_trojan_region = np.max(fit[outside_trojan_and_planet|in_trojon_region_l4|in_trojon_region_l5])\n",
    "    min_outside_trojan_region = np.min(fit[outside_trojan_and_planet|in_trojon_region_l4|in_trojon_region_l5])\n",
    "    std_outside_trojan_region = np.std(fit[outside_trojan_and_planet])\n",
    "    return mean_outside_trojan_region, max_outside_trojan_region, min_outside_trojan_region,std_outside_trojan_region,outside_trojan_and_planet,in_trojon_region\n",
    "\n",
    "def format_df(df):\n",
    "    df = df.T\n",
    "    df.columns = ['Time', 'Flux']\n",
    "    df = df.set_index('Time')\n",
    "    return df"
   ]
  },
  {
   "cell_type": "code",
   "execution_count": 330,
   "metadata": {
    "colab": {
     "base_uri": "https://localhost:8080/"
    },
    "id": "7HTdAlygO2o4",
    "outputId": "2436ed90-79f4-4fd4-9eb6-19f83c5d8049"
   },
   "outputs": [],
   "source": [
    "# import tensorflow.compat.v1 as tf\n",
    "# from tensorflow.python.ops.numpy_ops import np_config\n",
    "# np_config.enable_numpy_behavior()\n",
    "\n",
    "# print(\"Num GPUs Available: \", len(tf.config.list_physical_devices('GPU')))\n",
    "\n",
    "# gpus = tf.config.list_physical_devices('GPU')\n",
    "# if gpus:\n",
    "#   # Restrict TensorFlow to only use the first GPU\n",
    "#   try:\n",
    "#     tf.config.set_visible_devices(gpus[0], 'GPU')\n",
    "#     tf.config.experimental.set_memory_growth(gpus[0], True)\n",
    "#     logical_gpus = tf.config.list_logical_devices('GPU')\n",
    "#     print(len(gpus), \"Physical GPUs,\", len(logical_gpus), \"Logical GPU\")\n",
    "#   except RuntimeError as e:\n",
    "#     # Visible devices must be set before GPUs have been initialized\n",
    "#     print(e)"
   ]
  },
  {
   "cell_type": "code",
   "execution_count": 331,
   "metadata": {},
   "outputs": [],
   "source": [
    "def get_kepler_planet_data(kepler_name):\n",
    "    url = f\"https://archive.stsci.edu/kepler/confirmed_planets/search.php?kepler_name={kepler_name.replace(' ','+')}&max_records=1&action=Search&outputformat=JSON&coordformat=dec&verb=3\"\n",
    "    r = requests.get(url).json()[0]\n",
    "    period = float(r['Period'])\n",
    "    T0 = float(r['Time of transit'])\n",
    "    return period, T0\n",
    "\n",
    "def get_k2_planet_data(k2_name):\n",
    "    url = f\"https://archive.stsci.edu/k2/confirmed_planets/search.php?k2_name={k2_name.replace(' ','+')}&max_records=1&action=Search&outputformat=JSON&coordformat=dec&verb=3\"\n",
    "    r = requests.get(url).json()[0]\n",
    "    period = float(r['Period'])\n",
    "    T0 = float(r['Time of transit'])\n",
    "    return period, T0"
   ]
  },
  {
   "cell_type": "code",
   "execution_count": 332,
   "metadata": {
    "id": "08OVTwRSKas_"
   },
   "outputs": [],
   "source": [
    "def harmonics_tf(cut_time, cut_flux, cut_phis, cut_phase, period, number_of_transits):\n",
    "    ts_length = len(cut_time)\n",
    "    \n",
    "    nharms = tf.linspace(int(1),int(ts_length/number_of_transits),int(ts_length//number_of_transits)).astype('float32')\n",
    "    cut_flux_mat = np.matrix(cut_flux.reshape(ts_length,1))\n",
    "\n",
    "    phis_reshaped = tf.reshape(cut_phis, [ts_length, 1])\n",
    "    pmat = nharms*phis_reshaped\n",
    "    \n",
    "    C = tf.math.cos(pmat)\n",
    "    S = tf.math.sin(pmat)\n",
    "\n",
    "    Tmat = np.matrix(np.hstack((C,S))) # computationally intense calc\n",
    "\n",
    "    R1 = tf.linalg.inv(tf.linalg.matmul(Tmat.T,Tmat)) \n",
    "    R2 = tf.linalg.matmul(Tmat.T,cut_flux_mat)\n",
    "    R = tf.linalg.matmul(R1,R2)\n",
    "    del R1, R2\n",
    "\n",
    "    fit = tf.linalg.matmul(Tmat,R).reshape(ts_length)\n",
    "\n",
    "    # Now plot phase-folded\n",
    "    phase = cut_phase\n",
    "    isort = np.argsort(phase)\n",
    "    \n",
    "    phase = phase[isort]\n",
    "    fit = fit[isort]\n",
    "    cut_flux = cut_flux[isort]\n",
    "    return fit,cut_flux, phase, R,nharms, Tmat\n"
   ]
  },
  {
   "cell_type": "code",
   "execution_count": 333,
   "metadata": {},
   "outputs": [],
   "source": [
    "def harmonics_np(cut_time, cut_flux, cut_phis, cut_phase, period, number_of_transits):\n",
    "    ts_length = len(cut_time)\n",
    "    \n",
    "    nharms = np.linspace(1,ts_length/number_of_transits,ts_length//number_of_transits)\n",
    "    \n",
    "    cut_flux_mat = np.matrix(np.array(cut_flux).reshape(ts_length,1)) # DO NOT CHANGE THIS!! I SPENT HOURS TRYING TO RESOLVE THE ASTROPY NDTYPE\n",
    "    \n",
    "    pmat = nharms*cut_phis.reshape(ts_length, 1)\n",
    "\n",
    "    C = np.cos(pmat)\n",
    "    S = np.sin(pmat)\n",
    "\n",
    "    Tmat = np.matrix(np.hstack((C,S))) # computationally intense calc\n",
    "    R = (Tmat.T*Tmat).I * (Tmat.T*cut_flux_mat)\n",
    "\n",
    "    fit = np.array(Tmat*R).reshape(ts_length)\n",
    "\n",
    "    # Now plot phase-folded\n",
    "    isort = np.argsort(cut_phase)\n",
    "    phase = cut_phase[isort]\n",
    "    fit = fit[isort]\n",
    "    cut_flux_ordered = cut_flux[isort]\n",
    "    return fit,cut_flux_ordered, phase\n"
   ]
  },
  {
   "cell_type": "code",
   "execution_count": 338,
   "metadata": {
    "colab": {
     "base_uri": "https://localhost:8080/"
    },
    "id": "4EAjFIUx0C2g",
    "outputId": "d9db5650-73c5-41b8-ca95-9c8f2da4d514"
   },
   "outputs": [
    {
     "name": "stdout",
     "output_type": "stream",
     "text": [
      "##################\n",
      "Kepler-1 b\n"
     ]
    },
    {
     "name": "stderr",
     "output_type": "stream",
     "text": [
      "WARNING: column quality has a unit but is kept as a Column as an attempt to convert it to Quantity failed with:\n",
      "TypeError('The value must be a valid Python or Numpy numeric type.') [astropy.table.table]\n",
      "WARNING: column irq1 has a unit but is kept as a Column as an attempt to convert it to Quantity failed with:\n",
      "TypeError('The value must be a valid Python or Numpy numeric type.') [astropy.table.table]\n",
      "WARNING: column irq2 has a unit but is kept as a Column as an attempt to convert it to Quantity failed with:\n",
      "TypeError('The value must be a valid Python or Numpy numeric type.') [astropy.table.table]\n",
      "WARNING: column irq3 has a unit but is kept as a Column as an attempt to convert it to Quantity failed with:\n",
      "TypeError('The value must be a valid Python or Numpy numeric type.') [astropy.table.table]\n",
      "WARNING: column rstfc has a unit but is kept as a Column as an attempt to convert it to Quantity failed with:\n",
      "TypeError('The value must be a valid Python or Numpy numeric type.') [astropy.table.table]\n"
     ]
    },
    {
     "name": "stdout",
     "output_type": "stream",
     "text": [
      "(26873, 178)\n",
      "Nothing detected\n",
      "##################\n",
      "Kepler-10 b\n"
     ]
    },
    {
     "name": "stderr",
     "output_type": "stream",
     "text": [
      "No data found for target \"Kepler-10\".\n"
     ]
    },
    {
     "name": "stdout",
     "output_type": "stream",
     "text": [
      "No Data for Kepler-10 b\n",
      "##################\n",
      "Kepler-10 c\n",
      "No Data for Kepler-10 c\n"
     ]
    }
   ],
   "source": [
    "std_devs = 3\n",
    "starting_transit = 0\n",
    "outer_l4,inner_l4, inner_l5, outer_l5 = 0.24, 0.42, 0.57, 0.75\n",
    "\n",
    "for kepler_name in planet_list['pl_name'][:3]:\n",
    "    print('##################')\n",
    "    try:\n",
    "        del period, T0, df, df_cut\n",
    "    except:\n",
    "        pass\n",
    "\n",
    "    print(kepler_name)\n",
    "\n",
    "    try:\n",
    "        period, T0 = get_planet_data(kepler_name)\n",
    "    except:\n",
    "        continue\n",
    "    \n",
    "    lc_time, lc_flux = download_lightcurves(kepler_name)\n",
    "    if len(lc_time)==0:\n",
    "        continue\n",
    "    \n",
    "    number_of_transits = int((np.max(lc_time) - np.min(lc_time))/period)-1\n",
    "    number_of_transits = 300 if number_of_transits>300 else number_of_transits\n",
    "\n",
    "    lc_time_cut, lc_flux_cut = cut_time_series(lc_time,\n",
    "                                               lc_flux,\n",
    "                                               starting_transit,\n",
    "                                               number_of_transits,\n",
    "                                               T0,\n",
    "                                               period)\n",
    "    \n",
    "    phis,phase = phase_fold(lc_time_cut, period )\n",
    "    #plt.plot(lc_time_cut, lc_flux_cut, ',b')\n",
    "    #plt.plot(phase, lc_flux_cut, ',b')\n",
    "    ts_length = len(lc_time_cut)\n",
    "    \n",
    "#     lc_time_cut = tf.constant(lc_time_cut, np.float32) # uncomment if you want to use tensorflow\n",
    "#     lc_flux_cut = tf.constant(lc_flux_cut, np.float32)\n",
    "#     phis = tf.constant(phis, np.float32)\n",
    "#     phase = tf.constant(phase, np.float32)\n",
    "    \n",
    "    fit, old_data_ordered, phase = harmonics_np(lc_time_cut,\n",
    "                                                    lc_flux_cut,\n",
    "                                                    phis,\n",
    "                                                    phase,\n",
    "                                                    period,\n",
    "                                                    number_of_transits)\n",
    "    mean_outside_trojan_region, max_outside_trojan_region, min_outside_trojan_region,std_outside_trojan_region,outside_trojan_and_planet,in_trojon_region = get_trojan_regions(phase,outer_l4,inner_l4, inner_l5, outer_l5)\n",
    "    \n",
    "    \n",
    "    if np.sum(fit[in_trojon_region]<mean_outside_trojan_region-std_outside_trojan_region*std_devs)>0:\n",
    "        #plot_fitted_data(phase,fit,old_data_ordered,mean_outside_trojan_region,std_outside_trojan_region,std_devs,outer_l4,inner_l4,inner_l5,outer_l5)\n",
    "        \n",
    "        df_save = pd.DataFrame([lc_time_cut,old_data_ordered,fit]).astype(np.float32)\n",
    "        df_save = df_save.T\n",
    "        df_save.columns = ['Time', 'Original_norm_flux','fit']\n",
    "        df_save.to_parquet(f'{kepler_name}_{period}_{T0}_fit.parquet', index=False)\n",
    "    else:\n",
    "        print('Nothing detected')"
   ]
  },
  {
   "cell_type": "code",
   "execution_count": null,
   "metadata": {},
   "outputs": [],
   "source": []
  }
 ],
 "metadata": {
  "accelerator": "GPU",
  "colab": {
   "provenance": []
  },
  "gpuClass": "standard",
  "kernelspec": {
   "display_name": "Python 3 (ipykernel)",
   "language": "python",
   "name": "python3"
  },
  "language_info": {
   "codemirror_mode": {
    "name": "ipython",
    "version": 3
   },
   "file_extension": ".py",
   "mimetype": "text/x-python",
   "name": "python",
   "nbconvert_exporter": "python",
   "pygments_lexer": "ipython3",
   "version": "3.8.10"
  }
 },
 "nbformat": 4,
 "nbformat_minor": 1
}
