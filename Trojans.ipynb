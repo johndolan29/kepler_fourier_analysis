{
 "cells": [
  {
   "cell_type": "code",
   "execution_count": 41,
   "metadata": {
    "colab": {
     "base_uri": "https://localhost:8080/"
    },
    "id": "nS1HwdRr0ctW",
    "outputId": "6f1a08d2-80b1-4215-d231-cd9565a5e294"
   },
   "outputs": [],
   "source": [
    "#%pip install lightkurve\n",
    "#%pip install pyarrow"
   ]
  },
  {
   "cell_type": "code",
   "execution_count": 42,
   "metadata": {
    "colab": {
     "base_uri": "https://localhost:8080/",
     "height": 110
    },
    "id": "7YOruR3ozwNL",
    "outputId": "e1c94f99-8f18-4729-a082-b55ab2d56812"
   },
   "outputs": [],
   "source": [
    "import numpy as np\n",
    "import matplotlib.pyplot as plt\n",
    "import lightkurve as lk\n",
    "import pandas as pd\n",
    "import requests\n",
    "import os\n",
    "import time\n",
    "%matplotlib qt\n"
   ]
  },
  {
   "cell_type": "code",
   "execution_count": 43,
   "metadata": {},
   "outputs": [],
   "source": [
    "def timeit(func):\n",
    "    def wrapper(*args, **kwargs):\n",
    "        start_time = time.time()\n",
    "        \n",
    "        result = func(*args, **kwargs)  # Call the original function\n",
    "        \n",
    "        end_time = time.time()\n",
    "        elapsed_time = end_time - start_time\n",
    "        print(f\"{func.__name__} took {elapsed_time} seconds to run.\")\n",
    "        \n",
    "        return result  # Return the result of the original function\n",
    "    return wrapper"
   ]
  },
  {
   "cell_type": "code",
   "execution_count": 44,
   "metadata": {
    "id": "dKrPI3x2z4dA"
   },
   "outputs": [],
   "source": [
    "@timeit\n",
    "def cut_time_series(lc_time: np.array, lc_flux: np.array, starting_transit:int, number_of_transits:int, T0: float, period: float):\n",
    "    \n",
    "    interval = 0.5 # day\n",
    "    values_either_side_of_T0 = (lc_time<T0+interval) & (lc_time>T0-interval)\n",
    "    if values_either_side_of_T0.sum() == 0:\n",
    "        new_T0 = find_starting_transit(lc_time,T0, period)\n",
    "        if new_T0==T0:\n",
    "            print('Cannot continue, cannot cut')\n",
    "        else:\n",
    "            T0 = new_T0\n",
    "    \n",
    "    number_of_transits = number_of_transits-starting_transit\n",
    "\n",
    "    transit_start=(T0+(period*starting_transit))\n",
    "    transit_end=(T0+(period*int(number_of_transits)))\n",
    "    \n",
    "    time_cut_mask = (lc_time>=transit_start) & (lc_time<=transit_end)\n",
    "    lc_time_cut = lc_time[time_cut_mask]\n",
    "    lc_flux_cut = lc_flux[time_cut_mask]\n",
    "    return lc_time_cut, lc_flux_cut"
   ]
  },
  {
   "cell_type": "code",
   "execution_count": 45,
   "metadata": {
    "id": "NEDXNKBmz6bM"
   },
   "outputs": [],
   "source": [
    "@timeit\n",
    "def phase_fold(lc_time: np.array, period:float ):\n",
    "    timestep = lc_time[2] - lc_time[1] # just in case the first value is NaN\n",
    "    ts_length = len(lc_time)\n",
    "    \n",
    "    phase=np.mod((lc_time-lc_time.min())+period/2, period)/period\n",
    "    phis = 2.*np.pi*np.mod((lc_time-lc_time.min())/(period),1) \n",
    "    return phis,phase"
   ]
  },
  {
   "cell_type": "code",
   "execution_count": 46,
   "metadata": {
    "id": "uz5zP-7dz_Ik"
   },
   "outputs": [],
   "source": [
    "# import pandas as pd\n",
    "# kepler_list = pd.read_csv('kep_conf_names_2023_02_18_15_00_44.csv', delimiter=',', usecols = ['pl_name'])\n",
    "# K2_list = pd.read_csv('k2.csv', delimiter=',', usecols = ['pl_name','period'])\n",
    "# Tess_list = pd.read_csv('TESS_2023.csv', delimiter=',', usecols = ['pl_name','hostname'])\n",
    "\n",
    "# planet_list = pd.concat([kepler_list,Tess_list,K2_list], axis=0)"
   ]
  },
  {
   "cell_type": "code",
   "execution_count": 47,
   "metadata": {
    "id": "uHhHST6-0BIk"
   },
   "outputs": [],
   "source": [
    "@timeit\n",
    "def download_lightcurves(planet_name, author):\n",
    "    search_results = lk.search_lightcurve(planet_name, author=author, cadence=\"long\")\n",
    "    \n",
    "    if len(search_results)==0:\n",
    "        print(f'No Data for {planet_name}')\n",
    "        return [], []\n",
    "    lc_time_list = []\n",
    "    lc_flux_list = []\n",
    "    for lc in search_results:\n",
    "        light_curve = lc.download()\n",
    "        \n",
    "        lc_mean = np.mean(light_curve.flux.value)\n",
    "        quarter_normalised_flux = light_curve.flux.value.astype(np.ndarray) / np.mean(light_curve.flux.value)\n",
    "        quarter_lc_time = light_curve.time.mjd\n",
    "        lc_time_list.append(quarter_lc_time.astype(float))\n",
    "        lc_flux_list.append(quarter_normalised_flux.astype(float))\n",
    "    lc_time = np.concatenate(lc_time_list).astype(float)\n",
    "    lc_flux = np.concatenate(lc_flux_list).astype(float)\n",
    "    \n",
    "    lc_flux[np.isnan(lc_flux)]=1\n",
    "    \n",
    "    lc_flux -= np.mean(lc_flux)\n",
    "    \n",
    "    return lc_time,lc_flux\n"
   ]
  },
  {
   "cell_type": "code",
   "execution_count": 48,
   "metadata": {
    "id": "_aVSB-ey5hHE"
   },
   "outputs": [],
   "source": [
    "def plot_fitted_data(phase,fit,old_data,mean_outside_trojan_region,std_outside_trojan_region,std_devs,outer_l4,inner_l4,inner_l5,outer_l5):\n",
    "    plt.figure()\n",
    "    plt.plot(phase,fit,'r')\n",
    "    plt.axhline(mean_outside_trojan_region)\n",
    "    plt.axhline(mean_outside_trojan_region-std_outside_trojan_region*std_devs)\n",
    "    plt.axvline(outer_l4)\n",
    "    plt.axvline(inner_l4)\n",
    "    plt.axvline(inner_l5)\n",
    "    plt.axvline(outer_l5)\n",
    "    plt.plot(phase,old_data,',b')\n",
    "    #plt.ylim(min_outside_trojan_region,max_outside_trojan_region)\n",
    "    return\n",
    "\n",
    "@timeit\n",
    "def get_trojan_regions(phase, fit ,outer_l4,inner_l4, inner_l5, outer_l5):\n",
    "    in_trojon_region_l5 = (phase>inner_l5) & (phase<outer_l5)\n",
    "    in_trojon_region_l4 = (phase>outer_l4) & (phase<inner_l4)\n",
    "\n",
    "    outside_trojan_and_planet = (phase<outer_l4) | (phase>outer_l5)\n",
    "\n",
    "    in_trojon_region = in_trojon_region_l4 | in_trojon_region_l5\n",
    "\n",
    "    mean_outside_trojan_region = np.mean(fit[outside_trojan_and_planet])\n",
    "    max_outside_trojan_region = np.max(fit[outside_trojan_and_planet|in_trojon_region_l4|in_trojon_region_l5])\n",
    "    min_outside_trojan_region = np.min(fit[outside_trojan_and_planet|in_trojon_region_l4|in_trojon_region_l5])\n",
    "    std_outside_trojan_region = np.std(fit[outside_trojan_and_planet])\n",
    "    return mean_outside_trojan_region, max_outside_trojan_region, min_outside_trojan_region,std_outside_trojan_region,outside_trojan_and_planet,in_trojon_region\n",
    "\n",
    "def format_df(df):\n",
    "    df = df.T\n",
    "    df.columns = ['Time', 'Flux']\n",
    "    df = df.set_index('Time')\n",
    "    return df"
   ]
  },
  {
   "cell_type": "code",
   "execution_count": 49,
   "metadata": {
    "colab": {
     "base_uri": "https://localhost:8080/"
    },
    "id": "7HTdAlygO2o4",
    "outputId": "2436ed90-79f4-4fd4-9eb6-19f83c5d8049"
   },
   "outputs": [],
   "source": [
    "#%pip install tensorflow \n",
    "import tensorflow.compat.v1 as tf\n",
    "from tensorflow.python.ops.numpy_ops import np_config\n",
    "np_config.enable_numpy_behavior()\n",
    "\n",
    "# print(\"Num GPUs Available: \", len(tf.config.list_physical_devices('GPU')))\n",
    "\n",
    "# gpus = tf.config.list_physical_devices('GPU')\n",
    "# if gpus:\n",
    "#   # Restrict TensorFlow to only use the first GPU\n",
    "#   try:\n",
    "#     tf.config.set_visible_devices(gpus[0], 'GPU')\n",
    "#     tf.config.experimental.set_memory_growth(gpus[0], True)\n",
    "#     logical_gpus = tf.config.list_logical_devices('GPU')\n",
    "#     print(len(gpus), \"Physical GPUs,\", len(logical_gpus), \"Logical GPU\")\n",
    "#   except RuntimeError as e:\n",
    "#     # Visible devices must be set before GPUs have been initialized\n",
    "#     print(e)"
   ]
  },
  {
   "cell_type": "code",
   "execution_count": 50,
   "metadata": {},
   "outputs": [],
   "source": [
    "def get_kepler_planet_data(kepler_name):\n",
    "    url = f\"https://archive.stsci.edu/kepler/confirmed_planets/search.php?kepler_name={kepler_name.replace(' ','+')}&max_records=1&action=Search&outputformat=JSON&coordformat=dec&verb=3\"\n",
    "    r = requests.get(url).json()[0]\n",
    "    period = float(r['Period'])\n",
    "    T0 = float(r['Time of transit'])\n",
    "    return period, T0\n",
    "\n",
    "def get_k2_planet_data(k2_name):\n",
    "    url = f\"https://archive.stsci.edu/k2/published_planets/search.php?k2_name={k2_name.replace(' ','+')}&max_records=1&action=Search&outputformat=JSON&coordformat=dec&verb=3\"\n",
    "    r = requests.get(url).json()[0]\n",
    "    period = float(r['Period'])\n",
    "    T0 = float(r['Time of transit'])\n",
    "    return period, T0"
   ]
  },
  {
   "cell_type": "code",
   "execution_count": 51,
   "metadata": {
    "id": "08OVTwRSKas_"
   },
   "outputs": [],
   "source": [
    "@timeit\n",
    "def harmonics_tf(cut_time, cut_flux, cut_phis, cut_phase, period, number_of_transits):\n",
    "    \"\"\"\n",
    "    TensorFlow optimized version\n",
    "    \"\"\"\n",
    "    ts_length = len(cut_time)\n",
    "    \n",
    "    nharms = tf.linspace(1.0, ts_length/number_of_transits, ts_length//number_of_transits)\n",
    "    \n",
    "    cut_flux_tensor = tf.reshape(tf.convert_to_tensor(cut_flux, dtype=tf.float32), [ts_length, 1])\n",
    "    \n",
    "    pmat = nharms * tf.reshape(tf.convert_to_tensor(cut_phis, dtype=tf.float32), [ts_length, 1])\n",
    "\n",
    "    C = tf.math.cos(pmat)\n",
    "    S = tf.math.sin(pmat)\n",
    "\n",
    "    Tmat = tf.concat([C, S], axis=1)\n",
    "    R = tf.linalg.inv(tf.matmul(tf.transpose(Tmat), Tmat))\n",
    "    R = tf.matmul(R, tf.matmul(tf.transpose(Tmat), cut_flux_tensor))\n",
    "    \n",
    "    fit = tf.reshape(tf.matmul(Tmat, R), [ts_length])\n",
    "    \n",
    "    isort = tf.argsort(cut_phase)\n",
    "    phase = tf.gather(cut_phase, isort)\n",
    "    fit = tf.gather(fit, isort)\n",
    "    cut_flux_ordered = tf.gather(cut_flux, isort)\n",
    "    \n",
    "    return fit, cut_flux_ordered, phase"
   ]
  },
  {
   "cell_type": "code",
   "execution_count": 52,
   "metadata": {},
   "outputs": [],
   "source": [
    "@timeit\n",
    "def harmonics_np(cut_time, cut_flux, cut_phis, cut_phase, period, number_of_transits):\n",
    "    \"\"\"\n",
    "    Do not touch this, it works!\n",
    "    \"\"\"\n",
    "    ts_length = len(cut_time)\n",
    "    \n",
    "    nharms = np.linspace(1,ts_length/number_of_transits,ts_length//number_of_transits)\n",
    "    \n",
    "    cut_flux_mat = np.matrix(np.array(cut_flux).reshape(ts_length,1)) # DO NOT CHANGE THIS!! I SPENT HOURS TRYING TO RESOLVE THE ASTROPY NDTYPE\n",
    "    \n",
    "    pmat = nharms*cut_phis.reshape(ts_length, 1)\n",
    "\n",
    "    C = np.cos(pmat)\n",
    "    S = np.sin(pmat)\n",
    "\n",
    "    Tmat = np.matrix(np.hstack((C,S))) # computationally intense calc\n",
    "    R = (Tmat.T*Tmat).I * (Tmat.T*cut_flux_mat)\n",
    "\n",
    "    fit = np.array(Tmat*R).reshape(ts_length)\n",
    "\n",
    "    # Now plot phase-folded\n",
    "    isort = np.argsort(cut_phase)\n",
    "    phase = cut_phase[isort]\n",
    "    fit = fit[isort]\n",
    "    cut_flux_ordered = cut_flux[isort]\n",
    "    return fit,cut_flux_ordered, phase\n"
   ]
  },
  {
   "cell_type": "code",
   "execution_count": 53,
   "metadata": {},
   "outputs": [],
   "source": [
    "@timeit\n",
    "def find_starting_transit(lc_time,T0, period):\n",
    "    \"\"\" the T0 I have may not be exactly at the start, or even in the time series\n",
    "    So I need to find what an appropriate starting point sould be\n",
    "    \"\"\"\n",
    "    new_starting_T0 = T0\n",
    "    if (lc_time<T0).sum()>0: \n",
    "        \n",
    "        for transit in np.arange(100,1,-1):\n",
    "            if (lc_time<(T0-(period*transit))).sum()>0:\n",
    "                new_starting_T0 = T0-(period*transit)\n",
    "                break\n",
    "        \n",
    "    else:\n",
    "        for transit in np.arange(1,100,1):\n",
    "            if (lc_time<(T0+(period*transit))).sum()>0:\n",
    "                new_starting_T0 = T0+(period*transit)\n",
    "                break\n",
    "    return new_starting_T0\n",
    "        \n",
    "    "
   ]
  },
  {
   "cell_type": "code",
   "execution_count": 54,
   "metadata": {},
   "outputs": [],
   "source": [
    "def is_any_value_nan(numeric_list):\n",
    "    \"\"\"\n",
    "    Cheks if any value in a list is nan. \n",
    "    \"\"\"\n",
    "    for val in numeric_list:\n",
    "        if val == np.nan or val == 'nan' or np.isnan(val)==True:\n",
    "            return True\n",
    "    return False\n",
    "\n"
   ]
  },
  {
   "cell_type": "code",
   "execution_count": 55,
   "metadata": {},
   "outputs": [],
   "source": [
    "import pandas as pd\n",
    "df_planets = pd.read_csv('planets_filtered_with_T0.csv')"
   ]
  },
  {
   "cell_type": "code",
   "execution_count": 56,
   "metadata": {},
   "outputs": [],
   "source": [
    "df_planets = df_planets.dropna()"
   ]
  },
  {
   "cell_type": "code",
   "execution_count": 57,
   "metadata": {},
   "outputs": [],
   "source": [
    "std_devs = 3\n",
    "starting_transit = 0\n",
    "outer_l4,inner_l4, inner_l5, outer_l5 = 0.24, 0.42, 0.57, 0.75\n",
    "assumed_planet_duration = 4 #days"
   ]
  },
  {
   "cell_type": "code",
   "execution_count": 58,
   "metadata": {
    "colab": {
     "base_uri": "https://localhost:8080/"
    },
    "id": "4EAjFIUx0C2g",
    "outputId": "d9db5650-73c5-41b8-ca95-9c8f2da4d514"
   },
   "outputs": [
    {
     "name": "stdout",
     "output_type": "stream",
     "text": [
      "##################\n",
      "K2-118 b period: 50.92092 T0: 57159.9701\n",
      "download_lightcurves took 0.466156005859375 seconds to run.\n",
      "cut_time_series took 0.0 seconds to run.\n",
      "phase_fold took 0.0 seconds to run.\n",
      "harmonics_tf took 0.16146445274353027 seconds to run.\n",
      "0.16146445274353027\n"
     ]
    },
    {
     "name": "stdout",
     "output_type": "stream",
     "text": [
      "get_trojan_regions took 0.04863858222961426 seconds to run.\n",
      "Nothing detected\n",
      "##################\n",
      "K2-185 c period: 52.713494 T0: 57158.6568\n",
      "download_lightcurves took 8.482665538787842 seconds to run.\n",
      "cut_time_series took 0.0 seconds to run.\n",
      "phase_fold took 0.00551605224609375 seconds to run.\n",
      "harmonics_tf took 0.16085171699523926 seconds to run.\n",
      "0.16085171699523926\n",
      "get_trojan_regions took 0.017826318740844727 seconds to run.\n",
      "Nothing detected\n",
      "##################\n",
      "K2-263 b period: 50.8213 T0: 58110.6274\n",
      "download_lightcurves took 8.444388151168823 seconds to run.\n",
      "cut_time_series took 0.0 seconds to run.\n",
      "phase_fold took 0.0015134811401367188 seconds to run.\n",
      "harmonics_tf took 0.07628774642944336 seconds to run.\n",
      "0.07628774642944336\n",
      "get_trojan_regions took 0.008228540420532227 seconds to run.\n",
      "Something detected\n",
      "Saved\n"
     ]
    }
   ],
   "source": [
    "import time \n",
    "mask =  (df_planets['Author'].str.contains('K2')) & (df_planets['period']>50)\n",
    "for ind, row in df_planets[mask].head(10).iterrows():\n",
    "    print('##################')\n",
    "    #i = 2824\n",
    "    #row = df_planets.iloc[i]\n",
    "    planet_name = row['pl_name']\n",
    "\n",
    "    period = row['period']\n",
    "    T0 = row['T0']\n",
    "    author = row['Author']\n",
    "\n",
    "    print(planet_name, \"period:\", period, \"T0:\", T0)\n",
    "    if is_any_value_nan([float(period), float(T0)])==True:\n",
    "        print(\"Nan found\")\n",
    "        continue\n",
    "    \n",
    "    lc_time, lc_flux = download_lightcurves(planet_name, author)\n",
    "\n",
    "    if len(lc_time)==0:\n",
    "        print('No LC Data')\n",
    "        continue\n",
    "\n",
    "    number_of_transits = int((np.max(lc_time) - np.min(lc_time))/period)-1\n",
    "    number_of_transits = 300 if number_of_transits>300 else number_of_transits\n",
    "\n",
    "    lc_time_cut, lc_flux_cut = cut_time_series(lc_time,\n",
    "                                            lc_flux,\n",
    "                                            starting_transit,\n",
    "                                            number_of_transits,\n",
    "                                            T0,\n",
    "                                            period)\n",
    "    phis,phase = phase_fold(lc_time_cut, period ) ##plt.plot(lc_time_cut, lc_flux_cut, ',b') #plt.plot(phase, lc_flux_cut, ',b')\n",
    "\n",
    "    ts_length = len(lc_time_cut)\n",
    "\n",
    "    #     lc_time_cut = tf.constant(lc_time_cut, np.float32) # uncomment if you want to use tensorflow\n",
    "    #     lc_flux_cut = tf.constant(lc_flux_cut, np.float32)\n",
    "    #     phis = tf.constant(phis, np.float32)\n",
    "    #     phase = tf.constant(phase, np.float32)\n",
    "\n",
    "    t1 = time.time()\n",
    "    fit, old_data_ordered, phase = harmonics_tf(lc_time_cut,\n",
    "                                                    lc_flux_cut,\n",
    "                                                    phis,\n",
    "                                                    phase,\n",
    "                                                    period,\n",
    "                                                    number_of_transits)\n",
    "    print(time.time()-t1)\n",
    "    mean_outside_trojan_region, max_outside_trojan_region, min_outside_trojan_region,std_outside_trojan_region,outside_trojan_and_planet,in_trojon_region = get_trojan_regions(phase, fit, outer_l4,inner_l4, inner_l5, outer_l5)\n",
    "\n",
    "    #plot_fitted_data(phase,fit,old_data_ordered,mean_outside_trojan_region,std_outside_trojan_region,std_devs,outer_l4,inner_l4,inner_l5,outer_l5)\n",
    "\n",
    "    if np.sum(fit[in_trojon_region]<mean_outside_trojan_region-std_outside_trojan_region*std_devs)>0:\n",
    "        print('Something detected')\n",
    "\n",
    "        df_save = pd.DataFrame([lc_time_cut,old_data_ordered,fit, phase]).astype(np.float32)\n",
    "        df_save = df_save.T\n",
    "        df_save.columns = ['Time', 'Original_norm_flux','fit', 'phase']\n",
    "        df_save.to_parquet(f'{planet_name}_{period}_{T0}_fit.parquet', index=False)\n",
    "        print('Saved')\n",
    "    else:\n",
    "        print('Nothing detected')"
   ]
  },
  {
   "cell_type": "code",
   "execution_count": null,
   "metadata": {},
   "outputs": [],
   "source": []
  },
  {
   "cell_type": "code",
   "execution_count": 59,
   "metadata": {},
   "outputs": [
    {
     "name": "stdout",
     "output_type": "stream",
     "text": [
      "K2-10 b_19.30481_56819.0775_fit.parquet\n",
      "get_trojan_regions took 0.0038657188415527344 seconds to run.\n",
      "K2-104 b_1.974238_57139.87998_fit.parquet\n",
      "get_trojan_regions took 0.0 seconds to run.\n"
     ]
    },
    {
     "name": "stdout",
     "output_type": "stream",
     "text": [
      "K2-107 b_3.31392_57304.02451_fit.parquet\n",
      "get_trojan_regions took 0.0 seconds to run.\n",
      "K2-11 b_39.8478_56829.3511_fit.parquet\n",
      "get_trojan_regions took 0.0 seconds to run.\n",
      "K2-263 b_50.8213_58110.6274_fit.parquet\n",
      "get_trojan_regions took 0.0064105987548828125 seconds to run.\n",
      "Kepler-1000 b_120.0181272_54966.689_fit.parquet\n",
      "get_trojan_regions took 0.005522727966308594 seconds to run.\n",
      "Kepler-1016 c_105.6551369_55062.6_fit.parquet\n",
      "get_trojan_regions took 0.0 seconds to run.\n",
      "Kepler-103 c_179.612_55127.82581_fit.parquet\n",
      "get_trojan_regions took 0.0 seconds to run.\n",
      "Kepler-1036 b_122.8808058_54997.957_fit.parquet\n",
      "get_trojan_regions took 0.015647411346435547 seconds to run.\n"
     ]
    }
   ],
   "source": [
    "parquet_files = os.listdir('.')\n",
    "file_names = [f for f in parquet_files if f.endswith('.parquet') ]\n",
    "for file_name in file_names:\n",
    "    print(file_name)\n",
    "    df5 = pd.read_parquet(file_name)\n",
    "    mean_outside_trojan_region, max_outside_trojan_region, min_outside_trojan_region,std_outside_trojan_region,outside_trojan_and_planet,in_trojon_region = get_trojan_regions(df5.phase, df5.fit ,outer_l4,inner_l4, inner_l5, outer_l5)\n",
    "    plot_fitted_data(df5.phase,df5.fit,df5.Original_norm_flux,mean_outside_trojan_region,std_outside_trojan_region,std_devs,outer_l4,inner_l4,inner_l5,outer_l5)\n"
   ]
  },
  {
   "cell_type": "code",
   "execution_count": null,
   "metadata": {},
   "outputs": [],
   "source": []
  }
 ],
 "metadata": {
  "accelerator": "GPU",
  "colab": {
   "provenance": []
  },
  "gpuClass": "standard",
  "kernelspec": {
   "display_name": "Python 3 (ipykernel)",
   "language": "python",
   "name": "python3"
  },
  "language_info": {
   "codemirror_mode": {
    "name": "ipython",
    "version": 3
   },
   "file_extension": ".py",
   "mimetype": "text/x-python",
   "name": "python",
   "nbconvert_exporter": "python",
   "pygments_lexer": "ipython3",
   "version": "3.11.5"
  }
 },
 "nbformat": 4,
 "nbformat_minor": 1
}
